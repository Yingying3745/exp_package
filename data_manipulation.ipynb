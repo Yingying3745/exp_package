{
 "cells": [
  {
   "cell_type": "code",
   "execution_count": 3,
   "id": "3fc82141",
   "metadata": {},
   "outputs": [],
   "source": [
    "import pandas as pd\n",
    "import numpy as np"
   ]
  },
  {
   "cell_type": "code",
   "execution_count": 198,
   "id": "e35a4476",
   "metadata": {},
   "outputs": [],
   "source": [
    "from sklearn.preprocessing import StandardScaler"
   ]
  },
  {
   "cell_type": "code",
   "execution_count": 140,
   "id": "7a5833f6",
   "metadata": {},
   "outputs": [],
   "source": [
    "df1 = pd.DataFrame({\"y\": np.random.normal(0.5,1,100),\"x1\":np.random.normal(0,1,100),\"x2\":np.random.normal(0,1.5,100)})"
   ]
  },
  {
   "cell_type": "code",
   "execution_count": 141,
   "id": "0528b6b9",
   "metadata": {},
   "outputs": [],
   "source": [
    "df1.iloc[1:5,1:2] =  np.nan"
   ]
  },
  {
   "cell_type": "code",
   "execution_count": 233,
   "id": "6224fb4d",
   "metadata": {},
   "outputs": [
    {
     "data": {
      "text/html": [
       "<div>\n",
       "<style scoped>\n",
       "    .dataframe tbody tr th:only-of-type {\n",
       "        vertical-align: middle;\n",
       "    }\n",
       "\n",
       "    .dataframe tbody tr th {\n",
       "        vertical-align: top;\n",
       "    }\n",
       "\n",
       "    .dataframe thead th {\n",
       "        text-align: right;\n",
       "    }\n",
       "</style>\n",
       "<table border=\"1\" class=\"dataframe\">\n",
       "  <thead>\n",
       "    <tr style=\"text-align: right;\">\n",
       "      <th></th>\n",
       "      <th>y</th>\n",
       "      <th>x1</th>\n",
       "      <th>x2</th>\n",
       "      <th>cate</th>\n",
       "    </tr>\n",
       "  </thead>\n",
       "  <tbody>\n",
       "    <tr>\n",
       "      <th>0</th>\n",
       "      <td>1.339753</td>\n",
       "      <td>-0.531238</td>\n",
       "      <td>-0.467031</td>\n",
       "      <td>A</td>\n",
       "    </tr>\n",
       "    <tr>\n",
       "      <th>1</th>\n",
       "      <td>0.862937</td>\n",
       "      <td>-0.531238</td>\n",
       "      <td>-0.462341</td>\n",
       "      <td>B</td>\n",
       "    </tr>\n",
       "    <tr>\n",
       "      <th>2</th>\n",
       "      <td>1.337050</td>\n",
       "      <td>-0.531238</td>\n",
       "      <td>0.667400</td>\n",
       "      <td>C</td>\n",
       "    </tr>\n",
       "    <tr>\n",
       "      <th>3</th>\n",
       "      <td>1.948494</td>\n",
       "      <td>-0.531238</td>\n",
       "      <td>-1.515707</td>\n",
       "      <td>D</td>\n",
       "    </tr>\n",
       "    <tr>\n",
       "      <th>4</th>\n",
       "      <td>-0.672754</td>\n",
       "      <td>-0.531238</td>\n",
       "      <td>-2.308219</td>\n",
       "      <td>A</td>\n",
       "    </tr>\n",
       "    <tr>\n",
       "      <th>...</th>\n",
       "      <td>...</td>\n",
       "      <td>...</td>\n",
       "      <td>...</td>\n",
       "      <td>...</td>\n",
       "    </tr>\n",
       "    <tr>\n",
       "      <th>95</th>\n",
       "      <td>0.894453</td>\n",
       "      <td>-1.948689</td>\n",
       "      <td>-1.499583</td>\n",
       "      <td>D</td>\n",
       "    </tr>\n",
       "    <tr>\n",
       "      <th>96</th>\n",
       "      <td>-0.373830</td>\n",
       "      <td>0.782657</td>\n",
       "      <td>-0.896559</td>\n",
       "      <td>A</td>\n",
       "    </tr>\n",
       "    <tr>\n",
       "      <th>97</th>\n",
       "      <td>2.275398</td>\n",
       "      <td>1.464156</td>\n",
       "      <td>-0.761010</td>\n",
       "      <td>B</td>\n",
       "    </tr>\n",
       "    <tr>\n",
       "      <th>98</th>\n",
       "      <td>0.335380</td>\n",
       "      <td>-0.739807</td>\n",
       "      <td>1.370929</td>\n",
       "      <td>C</td>\n",
       "    </tr>\n",
       "    <tr>\n",
       "      <th>99</th>\n",
       "      <td>-0.026926</td>\n",
       "      <td>-1.262930</td>\n",
       "      <td>4.171586</td>\n",
       "      <td>D</td>\n",
       "    </tr>\n",
       "  </tbody>\n",
       "</table>\n",
       "<p>100 rows × 4 columns</p>\n",
       "</div>"
      ],
      "text/plain": [
       "           y        x1        x2 cate\n",
       "0   1.339753 -0.531238 -0.467031    A\n",
       "1   0.862937 -0.531238 -0.462341    B\n",
       "2   1.337050 -0.531238  0.667400    C\n",
       "3   1.948494 -0.531238 -1.515707    D\n",
       "4  -0.672754 -0.531238 -2.308219    A\n",
       "..       ...       ...       ...  ...\n",
       "95  0.894453 -1.948689 -1.499583    D\n",
       "96 -0.373830  0.782657 -0.896559    A\n",
       "97  2.275398  1.464156 -0.761010    B\n",
       "98  0.335380 -0.739807  1.370929    C\n",
       "99 -0.026926 -1.262930  4.171586    D\n",
       "\n",
       "[100 rows x 4 columns]"
      ]
     },
     "execution_count": 233,
     "metadata": {},
     "output_type": "execute_result"
    }
   ],
   "source": [
    "df1.fillna(method='ffill')"
   ]
  },
  {
   "cell_type": "code",
   "execution_count": 242,
   "id": "2ec14383",
   "metadata": {},
   "outputs": [
    {
     "data": {
      "text/html": [
       "<div>\n",
       "<style scoped>\n",
       "    .dataframe tbody tr th:only-of-type {\n",
       "        vertical-align: middle;\n",
       "    }\n",
       "\n",
       "    .dataframe tbody tr th {\n",
       "        vertical-align: top;\n",
       "    }\n",
       "\n",
       "    .dataframe thead th {\n",
       "        text-align: right;\n",
       "    }\n",
       "</style>\n",
       "<table border=\"1\" class=\"dataframe\">\n",
       "  <thead>\n",
       "    <tr style=\"text-align: right;\">\n",
       "      <th></th>\n",
       "      <th>x1</th>\n",
       "      <th>x2</th>\n",
       "    </tr>\n",
       "  </thead>\n",
       "  <tbody>\n",
       "    <tr>\n",
       "      <th>1</th>\n",
       "      <td>NaN</td>\n",
       "      <td>-0.462341</td>\n",
       "    </tr>\n",
       "    <tr>\n",
       "      <th>2</th>\n",
       "      <td>NaN</td>\n",
       "      <td>0.667400</td>\n",
       "    </tr>\n",
       "    <tr>\n",
       "      <th>3</th>\n",
       "      <td>NaN</td>\n",
       "      <td>-1.515707</td>\n",
       "    </tr>\n",
       "  </tbody>\n",
       "</table>\n",
       "</div>"
      ],
      "text/plain": [
       "   x1        x2\n",
       "1 NaN -0.462341\n",
       "2 NaN  0.667400\n",
       "3 NaN -1.515707"
      ]
     },
     "execution_count": 242,
     "metadata": {},
     "output_type": "execute_result"
    }
   ],
   "source": [
    "#manipulation\n",
    "#df1[df1.x1 >= 0]\n",
    "#df1.loc[df1.x1 >= 0,[\"x1\",\"x2\"]]\n",
    "#df1.iloc[:,[1,2,3]]\n",
    "#df1.loc[[1,2,3],[\"x1\",\"x2\"]]"
   ]
  },
  {
   "cell_type": "code",
   "execution_count": 142,
   "id": "76ac4d4d",
   "metadata": {},
   "outputs": [],
   "source": [
    "cat = 25 * ['A','B','C','D']"
   ]
  },
  {
   "cell_type": "code",
   "execution_count": 143,
   "id": "b12a6fa9",
   "metadata": {},
   "outputs": [],
   "source": [
    "df1[\"cate\"] = cat"
   ]
  },
  {
   "cell_type": "code",
   "execution_count": 144,
   "id": "07eb6387",
   "metadata": {},
   "outputs": [
    {
     "data": {
      "text/html": [
       "<div>\n",
       "<style scoped>\n",
       "    .dataframe tbody tr th:only-of-type {\n",
       "        vertical-align: middle;\n",
       "    }\n",
       "\n",
       "    .dataframe tbody tr th {\n",
       "        vertical-align: top;\n",
       "    }\n",
       "\n",
       "    .dataframe thead th {\n",
       "        text-align: right;\n",
       "    }\n",
       "</style>\n",
       "<table border=\"1\" class=\"dataframe\">\n",
       "  <thead>\n",
       "    <tr style=\"text-align: right;\">\n",
       "      <th></th>\n",
       "      <th>y</th>\n",
       "      <th>x1</th>\n",
       "      <th>x2</th>\n",
       "      <th>cate</th>\n",
       "    </tr>\n",
       "  </thead>\n",
       "  <tbody>\n",
       "    <tr>\n",
       "      <th>0</th>\n",
       "      <td>1.339753</td>\n",
       "      <td>-0.531238</td>\n",
       "      <td>-0.467031</td>\n",
       "      <td>A</td>\n",
       "    </tr>\n",
       "    <tr>\n",
       "      <th>5</th>\n",
       "      <td>0.459417</td>\n",
       "      <td>1.291437</td>\n",
       "      <td>1.596842</td>\n",
       "      <td>B</td>\n",
       "    </tr>\n",
       "    <tr>\n",
       "      <th>6</th>\n",
       "      <td>-0.482579</td>\n",
       "      <td>-0.294191</td>\n",
       "      <td>0.838509</td>\n",
       "      <td>C</td>\n",
       "    </tr>\n",
       "    <tr>\n",
       "      <th>7</th>\n",
       "      <td>0.913221</td>\n",
       "      <td>0.061886</td>\n",
       "      <td>2.477080</td>\n",
       "      <td>D</td>\n",
       "    </tr>\n",
       "    <tr>\n",
       "      <th>8</th>\n",
       "      <td>0.919553</td>\n",
       "      <td>-0.711391</td>\n",
       "      <td>-1.917174</td>\n",
       "      <td>A</td>\n",
       "    </tr>\n",
       "    <tr>\n",
       "      <th>...</th>\n",
       "      <td>...</td>\n",
       "      <td>...</td>\n",
       "      <td>...</td>\n",
       "      <td>...</td>\n",
       "    </tr>\n",
       "    <tr>\n",
       "      <th>95</th>\n",
       "      <td>0.894453</td>\n",
       "      <td>-1.948689</td>\n",
       "      <td>-1.499583</td>\n",
       "      <td>D</td>\n",
       "    </tr>\n",
       "    <tr>\n",
       "      <th>96</th>\n",
       "      <td>-0.373830</td>\n",
       "      <td>0.782657</td>\n",
       "      <td>-0.896559</td>\n",
       "      <td>A</td>\n",
       "    </tr>\n",
       "    <tr>\n",
       "      <th>97</th>\n",
       "      <td>2.275398</td>\n",
       "      <td>1.464156</td>\n",
       "      <td>-0.761010</td>\n",
       "      <td>B</td>\n",
       "    </tr>\n",
       "    <tr>\n",
       "      <th>98</th>\n",
       "      <td>0.335380</td>\n",
       "      <td>-0.739807</td>\n",
       "      <td>1.370929</td>\n",
       "      <td>C</td>\n",
       "    </tr>\n",
       "    <tr>\n",
       "      <th>99</th>\n",
       "      <td>-0.026926</td>\n",
       "      <td>-1.262930</td>\n",
       "      <td>4.171586</td>\n",
       "      <td>D</td>\n",
       "    </tr>\n",
       "  </tbody>\n",
       "</table>\n",
       "<p>96 rows × 4 columns</p>\n",
       "</div>"
      ],
      "text/plain": [
       "           y        x1        x2 cate\n",
       "0   1.339753 -0.531238 -0.467031    A\n",
       "5   0.459417  1.291437  1.596842    B\n",
       "6  -0.482579 -0.294191  0.838509    C\n",
       "7   0.913221  0.061886  2.477080    D\n",
       "8   0.919553 -0.711391 -1.917174    A\n",
       "..       ...       ...       ...  ...\n",
       "95  0.894453 -1.948689 -1.499583    D\n",
       "96 -0.373830  0.782657 -0.896559    A\n",
       "97  2.275398  1.464156 -0.761010    B\n",
       "98  0.335380 -0.739807  1.370929    C\n",
       "99 -0.026926 -1.262930  4.171586    D\n",
       "\n",
       "[96 rows x 4 columns]"
      ]
     },
     "execution_count": 144,
     "metadata": {},
     "output_type": "execute_result"
    }
   ],
   "source": [
    "df2 = df1.dropna()\n",
    "df2"
   ]
  },
  {
   "cell_type": "code",
   "execution_count": 145,
   "id": "7dc71d50",
   "metadata": {},
   "outputs": [
    {
     "data": {
      "text/html": [
       "<div>\n",
       "<style scoped>\n",
       "    .dataframe tbody tr th:only-of-type {\n",
       "        vertical-align: middle;\n",
       "    }\n",
       "\n",
       "    .dataframe tbody tr th {\n",
       "        vertical-align: top;\n",
       "    }\n",
       "\n",
       "    .dataframe thead th {\n",
       "        text-align: right;\n",
       "    }\n",
       "</style>\n",
       "<table border=\"1\" class=\"dataframe\">\n",
       "  <thead>\n",
       "    <tr style=\"text-align: right;\">\n",
       "      <th></th>\n",
       "      <th>y</th>\n",
       "      <th>x1</th>\n",
       "      <th>x2</th>\n",
       "    </tr>\n",
       "  </thead>\n",
       "  <tbody>\n",
       "    <tr>\n",
       "      <th>count</th>\n",
       "      <td>96.000000</td>\n",
       "      <td>96.000000</td>\n",
       "      <td>96.000000</td>\n",
       "    </tr>\n",
       "    <tr>\n",
       "      <th>mean</th>\n",
       "      <td>0.569087</td>\n",
       "      <td>-0.067375</td>\n",
       "      <td>0.110750</td>\n",
       "    </tr>\n",
       "    <tr>\n",
       "      <th>std</th>\n",
       "      <td>1.017451</td>\n",
       "      <td>0.895133</td>\n",
       "      <td>1.590978</td>\n",
       "    </tr>\n",
       "    <tr>\n",
       "      <th>min</th>\n",
       "      <td>-1.701133</td>\n",
       "      <td>-2.258221</td>\n",
       "      <td>-4.352605</td>\n",
       "    </tr>\n",
       "    <tr>\n",
       "      <th>25%</th>\n",
       "      <td>-0.035761</td>\n",
       "      <td>-0.664888</td>\n",
       "      <td>-0.996900</td>\n",
       "    </tr>\n",
       "    <tr>\n",
       "      <th>50%</th>\n",
       "      <td>0.577088</td>\n",
       "      <td>-0.077793</td>\n",
       "      <td>0.000194</td>\n",
       "    </tr>\n",
       "    <tr>\n",
       "      <th>75%</th>\n",
       "      <td>1.125093</td>\n",
       "      <td>0.495604</td>\n",
       "      <td>1.170720</td>\n",
       "    </tr>\n",
       "    <tr>\n",
       "      <th>max</th>\n",
       "      <td>3.722592</td>\n",
       "      <td>2.219386</td>\n",
       "      <td>4.171586</td>\n",
       "    </tr>\n",
       "  </tbody>\n",
       "</table>\n",
       "</div>"
      ],
      "text/plain": [
       "               y         x1         x2\n",
       "count  96.000000  96.000000  96.000000\n",
       "mean    0.569087  -0.067375   0.110750\n",
       "std     1.017451   0.895133   1.590978\n",
       "min    -1.701133  -2.258221  -4.352605\n",
       "25%    -0.035761  -0.664888  -0.996900\n",
       "50%     0.577088  -0.077793   0.000194\n",
       "75%     1.125093   0.495604   1.170720\n",
       "max     3.722592   2.219386   4.171586"
      ]
     },
     "execution_count": 145,
     "metadata": {},
     "output_type": "execute_result"
    }
   ],
   "source": [
    "df2.describe()"
   ]
  },
  {
   "cell_type": "code",
   "execution_count": 147,
   "id": "f8156563",
   "metadata": {},
   "outputs": [
    {
     "data": {
      "text/html": [
       "<div>\n",
       "<style scoped>\n",
       "    .dataframe tbody tr th:only-of-type {\n",
       "        vertical-align: middle;\n",
       "    }\n",
       "\n",
       "    .dataframe tbody tr th {\n",
       "        vertical-align: top;\n",
       "    }\n",
       "\n",
       "    .dataframe thead th {\n",
       "        text-align: right;\n",
       "    }\n",
       "</style>\n",
       "<table border=\"1\" class=\"dataframe\">\n",
       "  <thead>\n",
       "    <tr style=\"text-align: right;\">\n",
       "      <th></th>\n",
       "      <th>cate</th>\n",
       "      <th>mean</th>\n",
       "    </tr>\n",
       "  </thead>\n",
       "  <tbody>\n",
       "    <tr>\n",
       "      <th>0</th>\n",
       "      <td>A</td>\n",
       "      <td>-0.042820</td>\n",
       "    </tr>\n",
       "    <tr>\n",
       "      <th>1</th>\n",
       "      <td>B</td>\n",
       "      <td>0.125534</td>\n",
       "    </tr>\n",
       "    <tr>\n",
       "      <th>2</th>\n",
       "      <td>C</td>\n",
       "      <td>-0.028781</td>\n",
       "    </tr>\n",
       "    <tr>\n",
       "      <th>3</th>\n",
       "      <td>D</td>\n",
       "      <td>-0.323433</td>\n",
       "    </tr>\n",
       "  </tbody>\n",
       "</table>\n",
       "</div>"
      ],
      "text/plain": [
       "  cate      mean\n",
       "0    A -0.042820\n",
       "1    B  0.125534\n",
       "2    C -0.028781\n",
       "3    D -0.323433"
      ]
     },
     "execution_count": 147,
     "metadata": {},
     "output_type": "execute_result"
    }
   ],
   "source": [
    "df2.groupby(['cate']).agg(mean = ('x1','mean')).reset_index()"
   ]
  },
  {
   "cell_type": "code",
   "execution_count": null,
   "id": "93a10123",
   "metadata": {},
   "outputs": [],
   "source": [
    "#df2.groupby(['cate'])[\"x1\"].apply(func)"
   ]
  },
  {
   "cell_type": "code",
   "execution_count": 149,
   "id": "f3396796",
   "metadata": {},
   "outputs": [],
   "source": [
    "df2 = pd.get_dummies(df2, columns = [\"cate\"])"
   ]
  },
  {
   "cell_type": "code",
   "execution_count": 150,
   "id": "8fedb42e",
   "metadata": {},
   "outputs": [],
   "source": [
    "def func(x):\n",
    "    y = np.mean(x)\n",
    "    return y"
   ]
  },
  {
   "cell_type": "code",
   "execution_count": 151,
   "id": "183fbe9a",
   "metadata": {},
   "outputs": [],
   "source": [
    "#help(pd.DataFrame.apply)"
   ]
  },
  {
   "cell_type": "code",
   "execution_count": 303,
   "id": "79e97aa5",
   "metadata": {},
   "outputs": [],
   "source": [
    "#help(xgboost)"
   ]
  },
  {
   "cell_type": "code",
   "execution_count": 293,
   "id": "627a90e3",
   "metadata": {},
   "outputs": [],
   "source": [
    "import xgboost"
   ]
  },
  {
   "cell_type": "code",
   "execution_count": 121,
   "id": "761f409f",
   "metadata": {},
   "outputs": [],
   "source": [
    "from sklearn.ensemble import GradientBoostingClassifier"
   ]
  },
  {
   "cell_type": "code",
   "execution_count": 129,
   "id": "7c97b81b",
   "metadata": {},
   "outputs": [],
   "source": [
    "from sklearn.ensemble import GradientBoostingRegressor"
   ]
  },
  {
   "cell_type": "code",
   "execution_count": 122,
   "id": "0222ba6a",
   "metadata": {},
   "outputs": [],
   "source": [
    "from sklearn.model_selection import train_test_split"
   ]
  },
  {
   "cell_type": "code",
   "execution_count": 208,
   "id": "e2f35656",
   "metadata": {},
   "outputs": [],
   "source": [
    "from sklearn.model_selection import GridSearchCV"
   ]
  },
  {
   "cell_type": "code",
   "execution_count": 186,
   "id": "efc59232",
   "metadata": {},
   "outputs": [],
   "source": [
    "import sklearn"
   ]
  },
  {
   "cell_type": "code",
   "execution_count": 192,
   "id": "5d7086ba",
   "metadata": {},
   "outputs": [],
   "source": [
    "from sklearn.metrics import accuracy_score,mean_squared_error"
   ]
  },
  {
   "cell_type": "code",
   "execution_count": 325,
   "id": "e427ff7f",
   "metadata": {},
   "outputs": [],
   "source": [
    "#dir(sklearn.metrics)"
   ]
  },
  {
   "cell_type": "code",
   "execution_count": 322,
   "id": "30cadeb6",
   "metadata": {},
   "outputs": [],
   "source": [
    "from sklearn.metrics import roc_auc_score, f1_score,recall_score,precision_score"
   ]
  },
  {
   "cell_type": "code",
   "execution_count": 191,
   "id": "93549b7d",
   "metadata": {},
   "outputs": [],
   "source": [
    "#help(sklearn.metrics)"
   ]
  },
  {
   "cell_type": "code",
   "execution_count": 163,
   "id": "6f297727",
   "metadata": {},
   "outputs": [],
   "source": [
    "#df2.loc[:,df2.columns != \"y\"]"
   ]
  },
  {
   "cell_type": "code",
   "execution_count": 227,
   "id": "909da663",
   "metadata": {},
   "outputs": [],
   "source": [
    "#df2.loc[:,~df2.columns.isin([\"y\"])]"
   ]
  },
  {
   "cell_type": "code",
   "execution_count": 173,
   "id": "cca9b8c0",
   "metadata": {},
   "outputs": [],
   "source": [
    "x_train, x_test, y_train, y_test = train_test_split(df2.drop(columns = [\"y\"]), df2.y, test_size = 0.3)"
   ]
  },
  {
   "cell_type": "code",
   "execution_count": 202,
   "id": "a5c7dcca",
   "metadata": {},
   "outputs": [],
   "source": [
    "std_scale = StandardScaler()"
   ]
  },
  {
   "cell_type": "code",
   "execution_count": 203,
   "id": "add9e3a9",
   "metadata": {},
   "outputs": [],
   "source": [
    "x_std_train = std_scale.fit_transform(x_train)"
   ]
  },
  {
   "cell_type": "code",
   "execution_count": 204,
   "id": "1d5b3e8e",
   "metadata": {},
   "outputs": [],
   "source": [
    "x_std_test = std_scale.transform(x_test)"
   ]
  },
  {
   "cell_type": "code",
   "execution_count": 175,
   "id": "20232aa6",
   "metadata": {},
   "outputs": [],
   "source": [
    "#help(GradientBoostingRegressor)"
   ]
  },
  {
   "cell_type": "code",
   "execution_count": 299,
   "id": "b3e946ec",
   "metadata": {},
   "outputs": [],
   "source": [
    "XGB = xgboost.XGBRegressor()"
   ]
  },
  {
   "cell_type": "code",
   "execution_count": 300,
   "id": "af8db9df",
   "metadata": {},
   "outputs": [
    {
     "data": {
      "text/html": [
       "<style>#sk-container-id-6 {color: black;}#sk-container-id-6 pre{padding: 0;}#sk-container-id-6 div.sk-toggleable {background-color: white;}#sk-container-id-6 label.sk-toggleable__label {cursor: pointer;display: block;width: 100%;margin-bottom: 0;padding: 0.3em;box-sizing: border-box;text-align: center;}#sk-container-id-6 label.sk-toggleable__label-arrow:before {content: \"▸\";float: left;margin-right: 0.25em;color: #696969;}#sk-container-id-6 label.sk-toggleable__label-arrow:hover:before {color: black;}#sk-container-id-6 div.sk-estimator:hover label.sk-toggleable__label-arrow:before {color: black;}#sk-container-id-6 div.sk-toggleable__content {max-height: 0;max-width: 0;overflow: hidden;text-align: left;background-color: #f0f8ff;}#sk-container-id-6 div.sk-toggleable__content pre {margin: 0.2em;color: black;border-radius: 0.25em;background-color: #f0f8ff;}#sk-container-id-6 input.sk-toggleable__control:checked~div.sk-toggleable__content {max-height: 200px;max-width: 100%;overflow: auto;}#sk-container-id-6 input.sk-toggleable__control:checked~label.sk-toggleable__label-arrow:before {content: \"▾\";}#sk-container-id-6 div.sk-estimator input.sk-toggleable__control:checked~label.sk-toggleable__label {background-color: #d4ebff;}#sk-container-id-6 div.sk-label input.sk-toggleable__control:checked~label.sk-toggleable__label {background-color: #d4ebff;}#sk-container-id-6 input.sk-hidden--visually {border: 0;clip: rect(1px 1px 1px 1px);clip: rect(1px, 1px, 1px, 1px);height: 1px;margin: -1px;overflow: hidden;padding: 0;position: absolute;width: 1px;}#sk-container-id-6 div.sk-estimator {font-family: monospace;background-color: #f0f8ff;border: 1px dotted black;border-radius: 0.25em;box-sizing: border-box;margin-bottom: 0.5em;}#sk-container-id-6 div.sk-estimator:hover {background-color: #d4ebff;}#sk-container-id-6 div.sk-parallel-item::after {content: \"\";width: 100%;border-bottom: 1px solid gray;flex-grow: 1;}#sk-container-id-6 div.sk-label:hover label.sk-toggleable__label {background-color: #d4ebff;}#sk-container-id-6 div.sk-serial::before {content: \"\";position: absolute;border-left: 1px solid gray;box-sizing: border-box;top: 0;bottom: 0;left: 50%;z-index: 0;}#sk-container-id-6 div.sk-serial {display: flex;flex-direction: column;align-items: center;background-color: white;padding-right: 0.2em;padding-left: 0.2em;position: relative;}#sk-container-id-6 div.sk-item {position: relative;z-index: 1;}#sk-container-id-6 div.sk-parallel {display: flex;align-items: stretch;justify-content: center;background-color: white;position: relative;}#sk-container-id-6 div.sk-item::before, #sk-container-id-6 div.sk-parallel-item::before {content: \"\";position: absolute;border-left: 1px solid gray;box-sizing: border-box;top: 0;bottom: 0;left: 50%;z-index: -1;}#sk-container-id-6 div.sk-parallel-item {display: flex;flex-direction: column;z-index: 1;position: relative;background-color: white;}#sk-container-id-6 div.sk-parallel-item:first-child::after {align-self: flex-end;width: 50%;}#sk-container-id-6 div.sk-parallel-item:last-child::after {align-self: flex-start;width: 50%;}#sk-container-id-6 div.sk-parallel-item:only-child::after {width: 0;}#sk-container-id-6 div.sk-dashed-wrapped {border: 1px dashed gray;margin: 0 0.4em 0.5em 0.4em;box-sizing: border-box;padding-bottom: 0.4em;background-color: white;}#sk-container-id-6 div.sk-label label {font-family: monospace;font-weight: bold;display: inline-block;line-height: 1.2em;}#sk-container-id-6 div.sk-label-container {text-align: center;}#sk-container-id-6 div.sk-container {/* jupyter's `normalize.less` sets `[hidden] { display: none; }` but bootstrap.min.css set `[hidden] { display: none !important; }` so we also need the `!important` here to be able to override the default hidden behavior on the sphinx rendered scikit-learn.org. See: https://github.com/scikit-learn/scikit-learn/issues/21755 */display: inline-block !important;position: relative;}#sk-container-id-6 div.sk-text-repr-fallback {display: none;}</style><div id=\"sk-container-id-6\" class=\"sk-top-container\"><div class=\"sk-text-repr-fallback\"><pre>XGBRegressor(base_score=None, booster=None, callbacks=None,\n",
       "             colsample_bylevel=None, colsample_bynode=None,\n",
       "             colsample_bytree=None, device=None, early_stopping_rounds=None,\n",
       "             enable_categorical=False, eval_metric=None, feature_types=None,\n",
       "             gamma=None, grow_policy=None, importance_type=None,\n",
       "             interaction_constraints=None, learning_rate=None, max_bin=None,\n",
       "             max_cat_threshold=None, max_cat_to_onehot=None,\n",
       "             max_delta_step=None, max_depth=None, max_leaves=None,\n",
       "             min_child_weight=None, missing=nan, monotone_constraints=None,\n",
       "             multi_strategy=None, n_estimators=None, n_jobs=None,\n",
       "             num_parallel_tree=None, random_state=None, ...)</pre><b>In a Jupyter environment, please rerun this cell to show the HTML representation or trust the notebook. <br />On GitHub, the HTML representation is unable to render, please try loading this page with nbviewer.org.</b></div><div class=\"sk-container\" hidden><div class=\"sk-item\"><div class=\"sk-estimator sk-toggleable\"><input class=\"sk-toggleable__control sk-hidden--visually\" id=\"sk-estimator-id-8\" type=\"checkbox\" checked><label for=\"sk-estimator-id-8\" class=\"sk-toggleable__label sk-toggleable__label-arrow\">XGBRegressor</label><div class=\"sk-toggleable__content\"><pre>XGBRegressor(base_score=None, booster=None, callbacks=None,\n",
       "             colsample_bylevel=None, colsample_bynode=None,\n",
       "             colsample_bytree=None, device=None, early_stopping_rounds=None,\n",
       "             enable_categorical=False, eval_metric=None, feature_types=None,\n",
       "             gamma=None, grow_policy=None, importance_type=None,\n",
       "             interaction_constraints=None, learning_rate=None, max_bin=None,\n",
       "             max_cat_threshold=None, max_cat_to_onehot=None,\n",
       "             max_delta_step=None, max_depth=None, max_leaves=None,\n",
       "             min_child_weight=None, missing=nan, monotone_constraints=None,\n",
       "             multi_strategy=None, n_estimators=None, n_jobs=None,\n",
       "             num_parallel_tree=None, random_state=None, ...)</pre></div></div></div></div></div>"
      ],
      "text/plain": [
       "XGBRegressor(base_score=None, booster=None, callbacks=None,\n",
       "             colsample_bylevel=None, colsample_bynode=None,\n",
       "             colsample_bytree=None, device=None, early_stopping_rounds=None,\n",
       "             enable_categorical=False, eval_metric=None, feature_types=None,\n",
       "             gamma=None, grow_policy=None, importance_type=None,\n",
       "             interaction_constraints=None, learning_rate=None, max_bin=None,\n",
       "             max_cat_threshold=None, max_cat_to_onehot=None,\n",
       "             max_delta_step=None, max_depth=None, max_leaves=None,\n",
       "             min_child_weight=None, missing=nan, monotone_constraints=None,\n",
       "             multi_strategy=None, n_estimators=None, n_jobs=None,\n",
       "             num_parallel_tree=None, random_state=None, ...)"
      ]
     },
     "execution_count": 300,
     "metadata": {},
     "output_type": "execute_result"
    }
   ],
   "source": [
    "XGB.fit(x_std_train,y_train)"
   ]
  },
  {
   "cell_type": "code",
   "execution_count": 304,
   "id": "75af04ff",
   "metadata": {},
   "outputs": [],
   "source": [
    "#help(xgboost)"
   ]
  },
  {
   "cell_type": "code",
   "execution_count": null,
   "id": "ecec516e",
   "metadata": {},
   "outputs": [],
   "source": [
    "GBC.fit(x_std_train, y)"
   ]
  },
  {
   "cell_type": "code",
   "execution_count": 206,
   "id": "bb57c9b4",
   "metadata": {},
   "outputs": [],
   "source": [
    "pred = GBC.predict(x_std_test)"
   ]
  },
  {
   "cell_type": "code",
   "execution_count": 301,
   "id": "013dd517",
   "metadata": {},
   "outputs": [],
   "source": [
    "pred = XGB.predict(x_std_test)"
   ]
  },
  {
   "cell_type": "code",
   "execution_count": 302,
   "id": "6a3bd024",
   "metadata": {},
   "outputs": [
    {
     "data": {
      "text/plain": [
       "1.5042624095354895"
      ]
     },
     "execution_count": 302,
     "metadata": {},
     "output_type": "execute_result"
    }
   ],
   "source": [
    "mean_squared_error(pred,y_test)"
   ]
  },
  {
   "cell_type": "code",
   "execution_count": 197,
   "id": "585874e0",
   "metadata": {},
   "outputs": [],
   "source": [
    "#help(GradientBoostingRegressor)"
   ]
  },
  {
   "cell_type": "code",
   "execution_count": 212,
   "id": "a9ffeb82",
   "metadata": {},
   "outputs": [],
   "source": [
    "GBC = GradientBoostingRegressor()"
   ]
  },
  {
   "cell_type": "code",
   "execution_count": 211,
   "id": "dd6c71d5",
   "metadata": {},
   "outputs": [],
   "source": [
    "#help(GradientBoostingRegressor)"
   ]
  },
  {
   "cell_type": "code",
   "execution_count": 213,
   "id": "e21cd215",
   "metadata": {},
   "outputs": [],
   "source": [
    "para_grid = {'n_estimators':[2,4,6], 'learning_rate':[0.1,1]}"
   ]
  },
  {
   "cell_type": "code",
   "execution_count": 226,
   "id": "3e654dc0",
   "metadata": {},
   "outputs": [],
   "source": [
    "#help(GridSearchCV)"
   ]
  },
  {
   "cell_type": "code",
   "execution_count": 216,
   "id": "41dfb2b6",
   "metadata": {},
   "outputs": [
    {
     "data": {
      "text/html": [
       "<style>#sk-container-id-4 {color: black;}#sk-container-id-4 pre{padding: 0;}#sk-container-id-4 div.sk-toggleable {background-color: white;}#sk-container-id-4 label.sk-toggleable__label {cursor: pointer;display: block;width: 100%;margin-bottom: 0;padding: 0.3em;box-sizing: border-box;text-align: center;}#sk-container-id-4 label.sk-toggleable__label-arrow:before {content: \"▸\";float: left;margin-right: 0.25em;color: #696969;}#sk-container-id-4 label.sk-toggleable__label-arrow:hover:before {color: black;}#sk-container-id-4 div.sk-estimator:hover label.sk-toggleable__label-arrow:before {color: black;}#sk-container-id-4 div.sk-toggleable__content {max-height: 0;max-width: 0;overflow: hidden;text-align: left;background-color: #f0f8ff;}#sk-container-id-4 div.sk-toggleable__content pre {margin: 0.2em;color: black;border-radius: 0.25em;background-color: #f0f8ff;}#sk-container-id-4 input.sk-toggleable__control:checked~div.sk-toggleable__content {max-height: 200px;max-width: 100%;overflow: auto;}#sk-container-id-4 input.sk-toggleable__control:checked~label.sk-toggleable__label-arrow:before {content: \"▾\";}#sk-container-id-4 div.sk-estimator input.sk-toggleable__control:checked~label.sk-toggleable__label {background-color: #d4ebff;}#sk-container-id-4 div.sk-label input.sk-toggleable__control:checked~label.sk-toggleable__label {background-color: #d4ebff;}#sk-container-id-4 input.sk-hidden--visually {border: 0;clip: rect(1px 1px 1px 1px);clip: rect(1px, 1px, 1px, 1px);height: 1px;margin: -1px;overflow: hidden;padding: 0;position: absolute;width: 1px;}#sk-container-id-4 div.sk-estimator {font-family: monospace;background-color: #f0f8ff;border: 1px dotted black;border-radius: 0.25em;box-sizing: border-box;margin-bottom: 0.5em;}#sk-container-id-4 div.sk-estimator:hover {background-color: #d4ebff;}#sk-container-id-4 div.sk-parallel-item::after {content: \"\";width: 100%;border-bottom: 1px solid gray;flex-grow: 1;}#sk-container-id-4 div.sk-label:hover label.sk-toggleable__label {background-color: #d4ebff;}#sk-container-id-4 div.sk-serial::before {content: \"\";position: absolute;border-left: 1px solid gray;box-sizing: border-box;top: 0;bottom: 0;left: 50%;z-index: 0;}#sk-container-id-4 div.sk-serial {display: flex;flex-direction: column;align-items: center;background-color: white;padding-right: 0.2em;padding-left: 0.2em;position: relative;}#sk-container-id-4 div.sk-item {position: relative;z-index: 1;}#sk-container-id-4 div.sk-parallel {display: flex;align-items: stretch;justify-content: center;background-color: white;position: relative;}#sk-container-id-4 div.sk-item::before, #sk-container-id-4 div.sk-parallel-item::before {content: \"\";position: absolute;border-left: 1px solid gray;box-sizing: border-box;top: 0;bottom: 0;left: 50%;z-index: -1;}#sk-container-id-4 div.sk-parallel-item {display: flex;flex-direction: column;z-index: 1;position: relative;background-color: white;}#sk-container-id-4 div.sk-parallel-item:first-child::after {align-self: flex-end;width: 50%;}#sk-container-id-4 div.sk-parallel-item:last-child::after {align-self: flex-start;width: 50%;}#sk-container-id-4 div.sk-parallel-item:only-child::after {width: 0;}#sk-container-id-4 div.sk-dashed-wrapped {border: 1px dashed gray;margin: 0 0.4em 0.5em 0.4em;box-sizing: border-box;padding-bottom: 0.4em;background-color: white;}#sk-container-id-4 div.sk-label label {font-family: monospace;font-weight: bold;display: inline-block;line-height: 1.2em;}#sk-container-id-4 div.sk-label-container {text-align: center;}#sk-container-id-4 div.sk-container {/* jupyter's `normalize.less` sets `[hidden] { display: none; }` but bootstrap.min.css set `[hidden] { display: none !important; }` so we also need the `!important` here to be able to override the default hidden behavior on the sphinx rendered scikit-learn.org. See: https://github.com/scikit-learn/scikit-learn/issues/21755 */display: inline-block !important;position: relative;}#sk-container-id-4 div.sk-text-repr-fallback {display: none;}</style><div id=\"sk-container-id-4\" class=\"sk-top-container\"><div class=\"sk-text-repr-fallback\"><pre>GridSearchCV(cv=5, estimator=GradientBoostingRegressor(),\n",
       "             param_grid={&#x27;learning_rate&#x27;: [0.1, 1], &#x27;n_estimators&#x27;: [2, 4, 6]})</pre><b>In a Jupyter environment, please rerun this cell to show the HTML representation or trust the notebook. <br />On GitHub, the HTML representation is unable to render, please try loading this page with nbviewer.org.</b></div><div class=\"sk-container\" hidden><div class=\"sk-item sk-dashed-wrapped\"><div class=\"sk-label-container\"><div class=\"sk-label sk-toggleable\"><input class=\"sk-toggleable__control sk-hidden--visually\" id=\"sk-estimator-id-4\" type=\"checkbox\" ><label for=\"sk-estimator-id-4\" class=\"sk-toggleable__label sk-toggleable__label-arrow\">GridSearchCV</label><div class=\"sk-toggleable__content\"><pre>GridSearchCV(cv=5, estimator=GradientBoostingRegressor(),\n",
       "             param_grid={&#x27;learning_rate&#x27;: [0.1, 1], &#x27;n_estimators&#x27;: [2, 4, 6]})</pre></div></div></div><div class=\"sk-parallel\"><div class=\"sk-parallel-item\"><div class=\"sk-item\"><div class=\"sk-label-container\"><div class=\"sk-label sk-toggleable\"><input class=\"sk-toggleable__control sk-hidden--visually\" id=\"sk-estimator-id-5\" type=\"checkbox\" ><label for=\"sk-estimator-id-5\" class=\"sk-toggleable__label sk-toggleable__label-arrow\">estimator: GradientBoostingRegressor</label><div class=\"sk-toggleable__content\"><pre>GradientBoostingRegressor()</pre></div></div></div><div class=\"sk-serial\"><div class=\"sk-item\"><div class=\"sk-estimator sk-toggleable\"><input class=\"sk-toggleable__control sk-hidden--visually\" id=\"sk-estimator-id-6\" type=\"checkbox\" ><label for=\"sk-estimator-id-6\" class=\"sk-toggleable__label sk-toggleable__label-arrow\">GradientBoostingRegressor</label><div class=\"sk-toggleable__content\"><pre>GradientBoostingRegressor()</pre></div></div></div></div></div></div></div></div></div></div>"
      ],
      "text/plain": [
       "GridSearchCV(cv=5, estimator=GradientBoostingRegressor(),\n",
       "             param_grid={'learning_rate': [0.1, 1], 'n_estimators': [2, 4, 6]})"
      ]
     },
     "execution_count": 216,
     "metadata": {},
     "output_type": "execute_result"
    }
   ],
   "source": [
    "gs = GridSearchCV(estimator = GBC,param_grid = para_grid,cv= 5)\n",
    "gs.fit(x_std_train,y_train)"
   ]
  },
  {
   "cell_type": "code",
   "execution_count": 225,
   "id": "5a0ca06b",
   "metadata": {},
   "outputs": [],
   "source": [
    "#dir(GridSearchCV)"
   ]
  },
  {
   "cell_type": "code",
   "execution_count": 220,
   "id": "e8a51416",
   "metadata": {},
   "outputs": [],
   "source": [
    "model = gs.best_estimator_"
   ]
  },
  {
   "cell_type": "code",
   "execution_count": 356,
   "id": "6a3e91cd",
   "metadata": {},
   "outputs": [
    {
     "data": {
      "text/html": [
       "<style>#sk-container-id-8 {color: black;}#sk-container-id-8 pre{padding: 0;}#sk-container-id-8 div.sk-toggleable {background-color: white;}#sk-container-id-8 label.sk-toggleable__label {cursor: pointer;display: block;width: 100%;margin-bottom: 0;padding: 0.3em;box-sizing: border-box;text-align: center;}#sk-container-id-8 label.sk-toggleable__label-arrow:before {content: \"▸\";float: left;margin-right: 0.25em;color: #696969;}#sk-container-id-8 label.sk-toggleable__label-arrow:hover:before {color: black;}#sk-container-id-8 div.sk-estimator:hover label.sk-toggleable__label-arrow:before {color: black;}#sk-container-id-8 div.sk-toggleable__content {max-height: 0;max-width: 0;overflow: hidden;text-align: left;background-color: #f0f8ff;}#sk-container-id-8 div.sk-toggleable__content pre {margin: 0.2em;color: black;border-radius: 0.25em;background-color: #f0f8ff;}#sk-container-id-8 input.sk-toggleable__control:checked~div.sk-toggleable__content {max-height: 200px;max-width: 100%;overflow: auto;}#sk-container-id-8 input.sk-toggleable__control:checked~label.sk-toggleable__label-arrow:before {content: \"▾\";}#sk-container-id-8 div.sk-estimator input.sk-toggleable__control:checked~label.sk-toggleable__label {background-color: #d4ebff;}#sk-container-id-8 div.sk-label input.sk-toggleable__control:checked~label.sk-toggleable__label {background-color: #d4ebff;}#sk-container-id-8 input.sk-hidden--visually {border: 0;clip: rect(1px 1px 1px 1px);clip: rect(1px, 1px, 1px, 1px);height: 1px;margin: -1px;overflow: hidden;padding: 0;position: absolute;width: 1px;}#sk-container-id-8 div.sk-estimator {font-family: monospace;background-color: #f0f8ff;border: 1px dotted black;border-radius: 0.25em;box-sizing: border-box;margin-bottom: 0.5em;}#sk-container-id-8 div.sk-estimator:hover {background-color: #d4ebff;}#sk-container-id-8 div.sk-parallel-item::after {content: \"\";width: 100%;border-bottom: 1px solid gray;flex-grow: 1;}#sk-container-id-8 div.sk-label:hover label.sk-toggleable__label {background-color: #d4ebff;}#sk-container-id-8 div.sk-serial::before {content: \"\";position: absolute;border-left: 1px solid gray;box-sizing: border-box;top: 0;bottom: 0;left: 50%;z-index: 0;}#sk-container-id-8 div.sk-serial {display: flex;flex-direction: column;align-items: center;background-color: white;padding-right: 0.2em;padding-left: 0.2em;position: relative;}#sk-container-id-8 div.sk-item {position: relative;z-index: 1;}#sk-container-id-8 div.sk-parallel {display: flex;align-items: stretch;justify-content: center;background-color: white;position: relative;}#sk-container-id-8 div.sk-item::before, #sk-container-id-8 div.sk-parallel-item::before {content: \"\";position: absolute;border-left: 1px solid gray;box-sizing: border-box;top: 0;bottom: 0;left: 50%;z-index: -1;}#sk-container-id-8 div.sk-parallel-item {display: flex;flex-direction: column;z-index: 1;position: relative;background-color: white;}#sk-container-id-8 div.sk-parallel-item:first-child::after {align-self: flex-end;width: 50%;}#sk-container-id-8 div.sk-parallel-item:last-child::after {align-self: flex-start;width: 50%;}#sk-container-id-8 div.sk-parallel-item:only-child::after {width: 0;}#sk-container-id-8 div.sk-dashed-wrapped {border: 1px dashed gray;margin: 0 0.4em 0.5em 0.4em;box-sizing: border-box;padding-bottom: 0.4em;background-color: white;}#sk-container-id-8 div.sk-label label {font-family: monospace;font-weight: bold;display: inline-block;line-height: 1.2em;}#sk-container-id-8 div.sk-label-container {text-align: center;}#sk-container-id-8 div.sk-container {/* jupyter's `normalize.less` sets `[hidden] { display: none; }` but bootstrap.min.css set `[hidden] { display: none !important; }` so we also need the `!important` here to be able to override the default hidden behavior on the sphinx rendered scikit-learn.org. See: https://github.com/scikit-learn/scikit-learn/issues/21755 */display: inline-block !important;position: relative;}#sk-container-id-8 div.sk-text-repr-fallback {display: none;}</style><div id=\"sk-container-id-8\" class=\"sk-top-container\"><div class=\"sk-text-repr-fallback\"><pre>GradientBoostingRegressor(n_estimators=2)</pre><b>In a Jupyter environment, please rerun this cell to show the HTML representation or trust the notebook. <br />On GitHub, the HTML representation is unable to render, please try loading this page with nbviewer.org.</b></div><div class=\"sk-container\" hidden><div class=\"sk-item\"><div class=\"sk-estimator sk-toggleable\"><input class=\"sk-toggleable__control sk-hidden--visually\" id=\"sk-estimator-id-10\" type=\"checkbox\" checked><label for=\"sk-estimator-id-10\" class=\"sk-toggleable__label sk-toggleable__label-arrow\">GradientBoostingRegressor</label><div class=\"sk-toggleable__content\"><pre>GradientBoostingRegressor(n_estimators=2)</pre></div></div></div></div></div>"
      ],
      "text/plain": [
       "GradientBoostingRegressor(n_estimators=2)"
      ]
     },
     "execution_count": 356,
     "metadata": {},
     "output_type": "execute_result"
    }
   ],
   "source": [
    "model.fit(x_std_train,y_train)"
   ]
  },
  {
   "cell_type": "code",
   "execution_count": 357,
   "id": "059ee9f2",
   "metadata": {},
   "outputs": [],
   "source": [
    "pred_new  = model.predict(x_std_test)"
   ]
  },
  {
   "cell_type": "code",
   "execution_count": 358,
   "id": "a277e6f6",
   "metadata": {},
   "outputs": [
    {
     "data": {
      "text/plain": [
       "0.26453735154899716"
      ]
     },
     "execution_count": 358,
     "metadata": {},
     "output_type": "execute_result"
    }
   ],
   "source": [
    "mean_squared_error(pred_new,y_test)"
   ]
  },
  {
   "cell_type": "code",
   "execution_count": null,
   "id": "66846a10",
   "metadata": {},
   "outputs": [],
   "source": []
  },
  {
   "cell_type": "code",
   "execution_count": null,
   "id": "9149f0d6",
   "metadata": {},
   "outputs": [],
   "source": [
    "##\n",
    "#####More data manipulation practice"
   ]
  },
  {
   "cell_type": "code",
   "execution_count": 248,
   "id": "090a9bbb",
   "metadata": {},
   "outputs": [],
   "source": [
    "M1 = pd.DataFrame({\"y\": np.random.normal(0.5,1,100),\"x1\":np.random.normal(0,1,100),\"c1\":range(100)})"
   ]
  },
  {
   "cell_type": "code",
   "execution_count": 249,
   "id": "979bf997",
   "metadata": {},
   "outputs": [],
   "source": [
    "M2 = pd.DataFrame({\"y\": np.random.normal(1,1,100),\"x1\":np.random.normal(2,1,100),\"c1\":range(100)})"
   ]
  },
  {
   "cell_type": "code",
   "execution_count": 251,
   "id": "ba2e8269",
   "metadata": {},
   "outputs": [],
   "source": [
    "data = M1.merge(M2, on = \"c1\",how = \"inner\")"
   ]
  },
  {
   "cell_type": "code",
   "execution_count": 253,
   "id": "2a60121e",
   "metadata": {},
   "outputs": [],
   "source": [
    "data.columns = [\"y1\",\"x1\",\"c1\",\"y2\",\"x2\"]"
   ]
  },
  {
   "cell_type": "code",
   "execution_count": 254,
   "id": "e8132fcc",
   "metadata": {},
   "outputs": [
    {
     "data": {
      "text/html": [
       "<div>\n",
       "<style scoped>\n",
       "    .dataframe tbody tr th:only-of-type {\n",
       "        vertical-align: middle;\n",
       "    }\n",
       "\n",
       "    .dataframe tbody tr th {\n",
       "        vertical-align: top;\n",
       "    }\n",
       "\n",
       "    .dataframe thead th {\n",
       "        text-align: right;\n",
       "    }\n",
       "</style>\n",
       "<table border=\"1\" class=\"dataframe\">\n",
       "  <thead>\n",
       "    <tr style=\"text-align: right;\">\n",
       "      <th></th>\n",
       "      <th>y1</th>\n",
       "      <th>x1</th>\n",
       "      <th>c1</th>\n",
       "      <th>y2</th>\n",
       "      <th>x2</th>\n",
       "    </tr>\n",
       "  </thead>\n",
       "  <tbody>\n",
       "    <tr>\n",
       "      <th>0</th>\n",
       "      <td>-0.262197</td>\n",
       "      <td>-1.110802</td>\n",
       "      <td>0</td>\n",
       "      <td>0.634030</td>\n",
       "      <td>0.986582</td>\n",
       "    </tr>\n",
       "    <tr>\n",
       "      <th>1</th>\n",
       "      <td>1.423306</td>\n",
       "      <td>0.034227</td>\n",
       "      <td>1</td>\n",
       "      <td>1.533576</td>\n",
       "      <td>0.985666</td>\n",
       "    </tr>\n",
       "    <tr>\n",
       "      <th>2</th>\n",
       "      <td>2.356581</td>\n",
       "      <td>-0.323799</td>\n",
       "      <td>2</td>\n",
       "      <td>1.536220</td>\n",
       "      <td>1.254278</td>\n",
       "    </tr>\n",
       "    <tr>\n",
       "      <th>3</th>\n",
       "      <td>-0.535539</td>\n",
       "      <td>1.097755</td>\n",
       "      <td>3</td>\n",
       "      <td>1.209903</td>\n",
       "      <td>3.981744</td>\n",
       "    </tr>\n",
       "    <tr>\n",
       "      <th>4</th>\n",
       "      <td>-0.155069</td>\n",
       "      <td>-0.256680</td>\n",
       "      <td>4</td>\n",
       "      <td>2.208857</td>\n",
       "      <td>2.718471</td>\n",
       "    </tr>\n",
       "    <tr>\n",
       "      <th>...</th>\n",
       "      <td>...</td>\n",
       "      <td>...</td>\n",
       "      <td>...</td>\n",
       "      <td>...</td>\n",
       "      <td>...</td>\n",
       "    </tr>\n",
       "    <tr>\n",
       "      <th>95</th>\n",
       "      <td>-0.300543</td>\n",
       "      <td>1.224498</td>\n",
       "      <td>95</td>\n",
       "      <td>1.067106</td>\n",
       "      <td>2.787041</td>\n",
       "    </tr>\n",
       "    <tr>\n",
       "      <th>96</th>\n",
       "      <td>0.246340</td>\n",
       "      <td>0.720348</td>\n",
       "      <td>96</td>\n",
       "      <td>0.531147</td>\n",
       "      <td>2.099403</td>\n",
       "    </tr>\n",
       "    <tr>\n",
       "      <th>97</th>\n",
       "      <td>2.358503</td>\n",
       "      <td>1.623026</td>\n",
       "      <td>97</td>\n",
       "      <td>0.132286</td>\n",
       "      <td>1.372584</td>\n",
       "    </tr>\n",
       "    <tr>\n",
       "      <th>98</th>\n",
       "      <td>0.467662</td>\n",
       "      <td>0.534872</td>\n",
       "      <td>98</td>\n",
       "      <td>1.022649</td>\n",
       "      <td>1.882300</td>\n",
       "    </tr>\n",
       "    <tr>\n",
       "      <th>99</th>\n",
       "      <td>2.080322</td>\n",
       "      <td>-0.119816</td>\n",
       "      <td>99</td>\n",
       "      <td>0.150950</td>\n",
       "      <td>2.907886</td>\n",
       "    </tr>\n",
       "  </tbody>\n",
       "</table>\n",
       "<p>100 rows × 5 columns</p>\n",
       "</div>"
      ],
      "text/plain": [
       "          y1        x1  c1        y2        x2\n",
       "0  -0.262197 -1.110802   0  0.634030  0.986582\n",
       "1   1.423306  0.034227   1  1.533576  0.985666\n",
       "2   2.356581 -0.323799   2  1.536220  1.254278\n",
       "3  -0.535539  1.097755   3  1.209903  3.981744\n",
       "4  -0.155069 -0.256680   4  2.208857  2.718471\n",
       "..       ...       ...  ..       ...       ...\n",
       "95 -0.300543  1.224498  95  1.067106  2.787041\n",
       "96  0.246340  0.720348  96  0.531147  2.099403\n",
       "97  2.358503  1.623026  97  0.132286  1.372584\n",
       "98  0.467662  0.534872  98  1.022649  1.882300\n",
       "99  2.080322 -0.119816  99  0.150950  2.907886\n",
       "\n",
       "[100 rows x 5 columns]"
      ]
     },
     "execution_count": 254,
     "metadata": {},
     "output_type": "execute_result"
    }
   ],
   "source": [
    "data"
   ]
  },
  {
   "cell_type": "code",
   "execution_count": 255,
   "id": "98ca78c8",
   "metadata": {},
   "outputs": [
    {
     "data": {
      "text/plain": [
       "y1    float64\n",
       "x1    float64\n",
       "c1      int64\n",
       "y2    float64\n",
       "x2    float64\n",
       "dtype: object"
      ]
     },
     "execution_count": 255,
     "metadata": {},
     "output_type": "execute_result"
    }
   ],
   "source": [
    "data.dtypes"
   ]
  },
  {
   "cell_type": "code",
   "execution_count": 256,
   "id": "54693868",
   "metadata": {},
   "outputs": [],
   "source": [
    "data.c1 = data.c1.astype('string')"
   ]
  },
  {
   "cell_type": "code",
   "execution_count": 257,
   "id": "be7ff2d5",
   "metadata": {},
   "outputs": [
    {
     "data": {
      "text/plain": [
       "y1    float64\n",
       "x1    float64\n",
       "c1     string\n",
       "y2    float64\n",
       "x2    float64\n",
       "dtype: object"
      ]
     },
     "execution_count": 257,
     "metadata": {},
     "output_type": "execute_result"
    }
   ],
   "source": [
    "data.dtypes"
   ]
  },
  {
   "cell_type": "code",
   "execution_count": 260,
   "id": "04a20bb1",
   "metadata": {},
   "outputs": [],
   "source": [
    "import datetime as dt"
   ]
  },
  {
   "cell_type": "code",
   "execution_count": 266,
   "id": "e51e394e",
   "metadata": {},
   "outputs": [],
   "source": [
    "df = pd.DataFrame({\"x\":['2021-10-1','2021-10-2']})"
   ]
  },
  {
   "cell_type": "code",
   "execution_count": 270,
   "id": "96b113d4",
   "metadata": {},
   "outputs": [],
   "source": [
    "df.x = pd.to_datetime(df.x)"
   ]
  },
  {
   "cell_type": "code",
   "execution_count": 281,
   "id": "3f446bc7",
   "metadata": {},
   "outputs": [
    {
     "data": {
      "text/plain": [
       "0    4\n",
       "1    5\n",
       "Name: x, dtype: int64"
      ]
     },
     "execution_count": 281,
     "metadata": {},
     "output_type": "execute_result"
    }
   ],
   "source": [
    "df[\"x\"].dt.dayofweek"
   ]
  },
  {
   "cell_type": "code",
   "execution_count": 289,
   "id": "15d647ad",
   "metadata": {},
   "outputs": [],
   "source": [
    "df_concat = pd.concat([M1,M2],axis = 1)"
   ]
  },
  {
   "cell_type": "code",
   "execution_count": 290,
   "id": "ff1f6b31",
   "metadata": {},
   "outputs": [
    {
     "data": {
      "text/html": [
       "<div>\n",
       "<style scoped>\n",
       "    .dataframe tbody tr th:only-of-type {\n",
       "        vertical-align: middle;\n",
       "    }\n",
       "\n",
       "    .dataframe tbody tr th {\n",
       "        vertical-align: top;\n",
       "    }\n",
       "\n",
       "    .dataframe thead th {\n",
       "        text-align: right;\n",
       "    }\n",
       "</style>\n",
       "<table border=\"1\" class=\"dataframe\">\n",
       "  <thead>\n",
       "    <tr style=\"text-align: right;\">\n",
       "      <th></th>\n",
       "      <th>y</th>\n",
       "      <th>x1</th>\n",
       "      <th>c1</th>\n",
       "      <th>y</th>\n",
       "      <th>x1</th>\n",
       "      <th>c1</th>\n",
       "    </tr>\n",
       "  </thead>\n",
       "  <tbody>\n",
       "    <tr>\n",
       "      <th>0</th>\n",
       "      <td>-0.262197</td>\n",
       "      <td>-1.110802</td>\n",
       "      <td>0</td>\n",
       "      <td>0.634030</td>\n",
       "      <td>0.986582</td>\n",
       "      <td>0</td>\n",
       "    </tr>\n",
       "    <tr>\n",
       "      <th>1</th>\n",
       "      <td>1.423306</td>\n",
       "      <td>0.034227</td>\n",
       "      <td>1</td>\n",
       "      <td>1.533576</td>\n",
       "      <td>0.985666</td>\n",
       "      <td>1</td>\n",
       "    </tr>\n",
       "    <tr>\n",
       "      <th>2</th>\n",
       "      <td>2.356581</td>\n",
       "      <td>-0.323799</td>\n",
       "      <td>2</td>\n",
       "      <td>1.536220</td>\n",
       "      <td>1.254278</td>\n",
       "      <td>2</td>\n",
       "    </tr>\n",
       "    <tr>\n",
       "      <th>3</th>\n",
       "      <td>-0.535539</td>\n",
       "      <td>1.097755</td>\n",
       "      <td>3</td>\n",
       "      <td>1.209903</td>\n",
       "      <td>3.981744</td>\n",
       "      <td>3</td>\n",
       "    </tr>\n",
       "    <tr>\n",
       "      <th>4</th>\n",
       "      <td>-0.155069</td>\n",
       "      <td>-0.256680</td>\n",
       "      <td>4</td>\n",
       "      <td>2.208857</td>\n",
       "      <td>2.718471</td>\n",
       "      <td>4</td>\n",
       "    </tr>\n",
       "    <tr>\n",
       "      <th>...</th>\n",
       "      <td>...</td>\n",
       "      <td>...</td>\n",
       "      <td>...</td>\n",
       "      <td>...</td>\n",
       "      <td>...</td>\n",
       "      <td>...</td>\n",
       "    </tr>\n",
       "    <tr>\n",
       "      <th>95</th>\n",
       "      <td>-0.300543</td>\n",
       "      <td>1.224498</td>\n",
       "      <td>95</td>\n",
       "      <td>1.067106</td>\n",
       "      <td>2.787041</td>\n",
       "      <td>95</td>\n",
       "    </tr>\n",
       "    <tr>\n",
       "      <th>96</th>\n",
       "      <td>0.246340</td>\n",
       "      <td>0.720348</td>\n",
       "      <td>96</td>\n",
       "      <td>0.531147</td>\n",
       "      <td>2.099403</td>\n",
       "      <td>96</td>\n",
       "    </tr>\n",
       "    <tr>\n",
       "      <th>97</th>\n",
       "      <td>2.358503</td>\n",
       "      <td>1.623026</td>\n",
       "      <td>97</td>\n",
       "      <td>0.132286</td>\n",
       "      <td>1.372584</td>\n",
       "      <td>97</td>\n",
       "    </tr>\n",
       "    <tr>\n",
       "      <th>98</th>\n",
       "      <td>0.467662</td>\n",
       "      <td>0.534872</td>\n",
       "      <td>98</td>\n",
       "      <td>1.022649</td>\n",
       "      <td>1.882300</td>\n",
       "      <td>98</td>\n",
       "    </tr>\n",
       "    <tr>\n",
       "      <th>99</th>\n",
       "      <td>2.080322</td>\n",
       "      <td>-0.119816</td>\n",
       "      <td>99</td>\n",
       "      <td>0.150950</td>\n",
       "      <td>2.907886</td>\n",
       "      <td>99</td>\n",
       "    </tr>\n",
       "  </tbody>\n",
       "</table>\n",
       "<p>100 rows × 6 columns</p>\n",
       "</div>"
      ],
      "text/plain": [
       "           y        x1  c1         y        x1  c1\n",
       "0  -0.262197 -1.110802   0  0.634030  0.986582   0\n",
       "1   1.423306  0.034227   1  1.533576  0.985666   1\n",
       "2   2.356581 -0.323799   2  1.536220  1.254278   2\n",
       "3  -0.535539  1.097755   3  1.209903  3.981744   3\n",
       "4  -0.155069 -0.256680   4  2.208857  2.718471   4\n",
       "..       ...       ...  ..       ...       ...  ..\n",
       "95 -0.300543  1.224498  95  1.067106  2.787041  95\n",
       "96  0.246340  0.720348  96  0.531147  2.099403  96\n",
       "97  2.358503  1.623026  97  0.132286  1.372584  97\n",
       "98  0.467662  0.534872  98  1.022649  1.882300  98\n",
       "99  2.080322 -0.119816  99  0.150950  2.907886  99\n",
       "\n",
       "[100 rows x 6 columns]"
      ]
     },
     "execution_count": 290,
     "metadata": {},
     "output_type": "execute_result"
    }
   ],
   "source": [
    "df_concat"
   ]
  },
  {
   "cell_type": "code",
   "execution_count": null,
   "id": "12e225e0",
   "metadata": {},
   "outputs": [],
   "source": [
    "##\n",
    "#####Classification"
   ]
  },
  {
   "cell_type": "code",
   "execution_count": 314,
   "id": "f43dde4c",
   "metadata": {},
   "outputs": [
    {
     "data": {
      "text/plain": [
       "67"
      ]
     },
     "execution_count": 314,
     "metadata": {},
     "output_type": "execute_result"
    }
   ],
   "source": [
    "len(x_std_train)"
   ]
  },
  {
   "cell_type": "code",
   "execution_count": 305,
   "id": "9f4b030c",
   "metadata": {},
   "outputs": [],
   "source": [
    "from sklearn.ensemble import GradientBoostingClassifier"
   ]
  },
  {
   "cell_type": "code",
   "execution_count": 306,
   "id": "1980a08a",
   "metadata": {},
   "outputs": [],
   "source": [
    "GBC = GradientBoostingClassifier()"
   ]
  },
  {
   "cell_type": "code",
   "execution_count": 315,
   "id": "df82bf3d",
   "metadata": {},
   "outputs": [],
   "source": [
    "y_train = np.random.choice([0,1],size = len(x_std_train))"
   ]
  },
  {
   "cell_type": "code",
   "execution_count": 316,
   "id": "9a9ede5e",
   "metadata": {},
   "outputs": [],
   "source": [
    "y_test = np.random.choice([0,1],size = len(x_std_test))"
   ]
  },
  {
   "cell_type": "code",
   "execution_count": 317,
   "id": "f4b1000b",
   "metadata": {},
   "outputs": [
    {
     "data": {
      "text/html": [
       "<style>#sk-container-id-7 {color: black;}#sk-container-id-7 pre{padding: 0;}#sk-container-id-7 div.sk-toggleable {background-color: white;}#sk-container-id-7 label.sk-toggleable__label {cursor: pointer;display: block;width: 100%;margin-bottom: 0;padding: 0.3em;box-sizing: border-box;text-align: center;}#sk-container-id-7 label.sk-toggleable__label-arrow:before {content: \"▸\";float: left;margin-right: 0.25em;color: #696969;}#sk-container-id-7 label.sk-toggleable__label-arrow:hover:before {color: black;}#sk-container-id-7 div.sk-estimator:hover label.sk-toggleable__label-arrow:before {color: black;}#sk-container-id-7 div.sk-toggleable__content {max-height: 0;max-width: 0;overflow: hidden;text-align: left;background-color: #f0f8ff;}#sk-container-id-7 div.sk-toggleable__content pre {margin: 0.2em;color: black;border-radius: 0.25em;background-color: #f0f8ff;}#sk-container-id-7 input.sk-toggleable__control:checked~div.sk-toggleable__content {max-height: 200px;max-width: 100%;overflow: auto;}#sk-container-id-7 input.sk-toggleable__control:checked~label.sk-toggleable__label-arrow:before {content: \"▾\";}#sk-container-id-7 div.sk-estimator input.sk-toggleable__control:checked~label.sk-toggleable__label {background-color: #d4ebff;}#sk-container-id-7 div.sk-label input.sk-toggleable__control:checked~label.sk-toggleable__label {background-color: #d4ebff;}#sk-container-id-7 input.sk-hidden--visually {border: 0;clip: rect(1px 1px 1px 1px);clip: rect(1px, 1px, 1px, 1px);height: 1px;margin: -1px;overflow: hidden;padding: 0;position: absolute;width: 1px;}#sk-container-id-7 div.sk-estimator {font-family: monospace;background-color: #f0f8ff;border: 1px dotted black;border-radius: 0.25em;box-sizing: border-box;margin-bottom: 0.5em;}#sk-container-id-7 div.sk-estimator:hover {background-color: #d4ebff;}#sk-container-id-7 div.sk-parallel-item::after {content: \"\";width: 100%;border-bottom: 1px solid gray;flex-grow: 1;}#sk-container-id-7 div.sk-label:hover label.sk-toggleable__label {background-color: #d4ebff;}#sk-container-id-7 div.sk-serial::before {content: \"\";position: absolute;border-left: 1px solid gray;box-sizing: border-box;top: 0;bottom: 0;left: 50%;z-index: 0;}#sk-container-id-7 div.sk-serial {display: flex;flex-direction: column;align-items: center;background-color: white;padding-right: 0.2em;padding-left: 0.2em;position: relative;}#sk-container-id-7 div.sk-item {position: relative;z-index: 1;}#sk-container-id-7 div.sk-parallel {display: flex;align-items: stretch;justify-content: center;background-color: white;position: relative;}#sk-container-id-7 div.sk-item::before, #sk-container-id-7 div.sk-parallel-item::before {content: \"\";position: absolute;border-left: 1px solid gray;box-sizing: border-box;top: 0;bottom: 0;left: 50%;z-index: -1;}#sk-container-id-7 div.sk-parallel-item {display: flex;flex-direction: column;z-index: 1;position: relative;background-color: white;}#sk-container-id-7 div.sk-parallel-item:first-child::after {align-self: flex-end;width: 50%;}#sk-container-id-7 div.sk-parallel-item:last-child::after {align-self: flex-start;width: 50%;}#sk-container-id-7 div.sk-parallel-item:only-child::after {width: 0;}#sk-container-id-7 div.sk-dashed-wrapped {border: 1px dashed gray;margin: 0 0.4em 0.5em 0.4em;box-sizing: border-box;padding-bottom: 0.4em;background-color: white;}#sk-container-id-7 div.sk-label label {font-family: monospace;font-weight: bold;display: inline-block;line-height: 1.2em;}#sk-container-id-7 div.sk-label-container {text-align: center;}#sk-container-id-7 div.sk-container {/* jupyter's `normalize.less` sets `[hidden] { display: none; }` but bootstrap.min.css set `[hidden] { display: none !important; }` so we also need the `!important` here to be able to override the default hidden behavior on the sphinx rendered scikit-learn.org. See: https://github.com/scikit-learn/scikit-learn/issues/21755 */display: inline-block !important;position: relative;}#sk-container-id-7 div.sk-text-repr-fallback {display: none;}</style><div id=\"sk-container-id-7\" class=\"sk-top-container\"><div class=\"sk-text-repr-fallback\"><pre>GradientBoostingClassifier()</pre><b>In a Jupyter environment, please rerun this cell to show the HTML representation or trust the notebook. <br />On GitHub, the HTML representation is unable to render, please try loading this page with nbviewer.org.</b></div><div class=\"sk-container\" hidden><div class=\"sk-item\"><div class=\"sk-estimator sk-toggleable\"><input class=\"sk-toggleable__control sk-hidden--visually\" id=\"sk-estimator-id-9\" type=\"checkbox\" checked><label for=\"sk-estimator-id-9\" class=\"sk-toggleable__label sk-toggleable__label-arrow\">GradientBoostingClassifier</label><div class=\"sk-toggleable__content\"><pre>GradientBoostingClassifier()</pre></div></div></div></div></div>"
      ],
      "text/plain": [
       "GradientBoostingClassifier()"
      ]
     },
     "execution_count": 317,
     "metadata": {},
     "output_type": "execute_result"
    }
   ],
   "source": [
    "GBC.fit(x_std_train,y_train)"
   ]
  },
  {
   "cell_type": "code",
   "execution_count": 318,
   "id": "eb31492b",
   "metadata": {},
   "outputs": [],
   "source": [
    "predict = GBC.predict(x_std_test)"
   ]
  },
  {
   "cell_type": "code",
   "execution_count": 323,
   "id": "e7194df5",
   "metadata": {},
   "outputs": [
    {
     "data": {
      "text/plain": [
       "0.49759615384615385"
      ]
     },
     "execution_count": 323,
     "metadata": {},
     "output_type": "execute_result"
    }
   ],
   "source": [
    "roc_auc_score(predict,y_test)"
   ]
  },
  {
   "cell_type": "code",
   "execution_count": 324,
   "id": "3ed99021",
   "metadata": {},
   "outputs": [
    {
     "data": {
      "text/plain": [
       "0.3636363636363637"
      ]
     },
     "execution_count": 324,
     "metadata": {},
     "output_type": "execute_result"
    }
   ],
   "source": [
    "f1_score(predict,y_test)"
   ]
  },
  {
   "cell_type": "code",
   "execution_count": 336,
   "id": "97548ab9",
   "metadata": {},
   "outputs": [
    {
     "data": {
      "text/html": [
       "<div>\n",
       "<style scoped>\n",
       "    .dataframe tbody tr th:only-of-type {\n",
       "        vertical-align: middle;\n",
       "    }\n",
       "\n",
       "    .dataframe tbody tr th {\n",
       "        vertical-align: top;\n",
       "    }\n",
       "\n",
       "    .dataframe thead th {\n",
       "        text-align: right;\n",
       "    }\n",
       "</style>\n",
       "<table border=\"1\" class=\"dataframe\">\n",
       "  <thead>\n",
       "    <tr style=\"text-align: right;\">\n",
       "      <th></th>\n",
       "      <th>y</th>\n",
       "      <th>y</th>\n",
       "    </tr>\n",
       "  </thead>\n",
       "  <tbody>\n",
       "    <tr>\n",
       "      <th>0</th>\n",
       "      <td>-0.0</td>\n",
       "      <td>1.0</td>\n",
       "    </tr>\n",
       "    <tr>\n",
       "      <th>1</th>\n",
       "      <td>1.0</td>\n",
       "      <td>2.0</td>\n",
       "    </tr>\n",
       "    <tr>\n",
       "      <th>2</th>\n",
       "      <td>2.0</td>\n",
       "      <td>2.0</td>\n",
       "    </tr>\n",
       "    <tr>\n",
       "      <th>3</th>\n",
       "      <td>-1.0</td>\n",
       "      <td>1.0</td>\n",
       "    </tr>\n",
       "    <tr>\n",
       "      <th>4</th>\n",
       "      <td>-0.0</td>\n",
       "      <td>2.0</td>\n",
       "    </tr>\n",
       "    <tr>\n",
       "      <th>...</th>\n",
       "      <td>...</td>\n",
       "      <td>...</td>\n",
       "    </tr>\n",
       "    <tr>\n",
       "      <th>95</th>\n",
       "      <td>-0.0</td>\n",
       "      <td>1.0</td>\n",
       "    </tr>\n",
       "    <tr>\n",
       "      <th>96</th>\n",
       "      <td>0.0</td>\n",
       "      <td>1.0</td>\n",
       "    </tr>\n",
       "    <tr>\n",
       "      <th>97</th>\n",
       "      <td>2.0</td>\n",
       "      <td>0.0</td>\n",
       "    </tr>\n",
       "    <tr>\n",
       "      <th>98</th>\n",
       "      <td>0.0</td>\n",
       "      <td>1.0</td>\n",
       "    </tr>\n",
       "    <tr>\n",
       "      <th>99</th>\n",
       "      <td>2.0</td>\n",
       "      <td>0.0</td>\n",
       "    </tr>\n",
       "  </tbody>\n",
       "</table>\n",
       "<p>100 rows × 2 columns</p>\n",
       "</div>"
      ],
      "text/plain": [
       "      y    y\n",
       "0  -0.0  1.0\n",
       "1   1.0  2.0\n",
       "2   2.0  2.0\n",
       "3  -1.0  1.0\n",
       "4  -0.0  2.0\n",
       "..  ...  ...\n",
       "95 -0.0  1.0\n",
       "96  0.0  1.0\n",
       "97  2.0  0.0\n",
       "98  0.0  1.0\n",
       "99  2.0  0.0\n",
       "\n",
       "[100 rows x 2 columns]"
      ]
     },
     "execution_count": 336,
     "metadata": {},
     "output_type": "execute_result"
    }
   ],
   "source": [
    "round(df_concat.y,0)"
   ]
  },
  {
   "cell_type": "code",
   "execution_count": 351,
   "id": "8379a4dd",
   "metadata": {},
   "outputs": [],
   "source": [
    "round(df2.y,2)"
   ]
  },
  {
   "cell_type": "code",
   "execution_count": 355,
   "id": "d528a561",
   "metadata": {},
   "outputs": [
    {
     "data": {
      "text/html": [
       "<div>\n",
       "<style scoped>\n",
       "    .dataframe tbody tr th:only-of-type {\n",
       "        vertical-align: middle;\n",
       "    }\n",
       "\n",
       "    .dataframe tbody tr th {\n",
       "        vertical-align: top;\n",
       "    }\n",
       "\n",
       "    .dataframe thead th {\n",
       "        text-align: right;\n",
       "    }\n",
       "</style>\n",
       "<table border=\"1\" class=\"dataframe\">\n",
       "  <thead>\n",
       "    <tr style=\"text-align: right;\">\n",
       "      <th></th>\n",
       "      <th>y</th>\n",
       "      <th>x1</th>\n",
       "      <th>c1</th>\n",
       "    </tr>\n",
       "  </thead>\n",
       "  <tbody>\n",
       "    <tr>\n",
       "      <th>86</th>\n",
       "      <td>-2.973923</td>\n",
       "      <td>-2.019947</td>\n",
       "      <td>86</td>\n",
       "    </tr>\n",
       "    <tr>\n",
       "      <th>17</th>\n",
       "      <td>-1.853536</td>\n",
       "      <td>1.952938</td>\n",
       "      <td>17</td>\n",
       "    </tr>\n",
       "    <tr>\n",
       "      <th>22</th>\n",
       "      <td>-1.831597</td>\n",
       "      <td>-2.375704</td>\n",
       "      <td>22</td>\n",
       "    </tr>\n",
       "    <tr>\n",
       "      <th>43</th>\n",
       "      <td>-1.230575</td>\n",
       "      <td>0.151474</td>\n",
       "      <td>43</td>\n",
       "    </tr>\n",
       "    <tr>\n",
       "      <th>81</th>\n",
       "      <td>-1.211722</td>\n",
       "      <td>-2.132732</td>\n",
       "      <td>81</td>\n",
       "    </tr>\n",
       "    <tr>\n",
       "      <th>...</th>\n",
       "      <td>...</td>\n",
       "      <td>...</td>\n",
       "      <td>...</td>\n",
       "    </tr>\n",
       "    <tr>\n",
       "      <th>16</th>\n",
       "      <td>2.370635</td>\n",
       "      <td>-1.490335</td>\n",
       "      <td>16</td>\n",
       "    </tr>\n",
       "    <tr>\n",
       "      <th>34</th>\n",
       "      <td>2.461166</td>\n",
       "      <td>-0.054265</td>\n",
       "      <td>34</td>\n",
       "    </tr>\n",
       "    <tr>\n",
       "      <th>85</th>\n",
       "      <td>2.513075</td>\n",
       "      <td>-0.164125</td>\n",
       "      <td>85</td>\n",
       "    </tr>\n",
       "    <tr>\n",
       "      <th>49</th>\n",
       "      <td>2.626508</td>\n",
       "      <td>-0.649562</td>\n",
       "      <td>49</td>\n",
       "    </tr>\n",
       "    <tr>\n",
       "      <th>9</th>\n",
       "      <td>3.192554</td>\n",
       "      <td>-0.567513</td>\n",
       "      <td>9</td>\n",
       "    </tr>\n",
       "  </tbody>\n",
       "</table>\n",
       "<p>100 rows × 3 columns</p>\n",
       "</div>"
      ],
      "text/plain": [
       "           y        x1  c1\n",
       "86 -2.973923 -2.019947  86\n",
       "17 -1.853536  1.952938  17\n",
       "22 -1.831597 -2.375704  22\n",
       "43 -1.230575  0.151474  43\n",
       "81 -1.211722 -2.132732  81\n",
       "..       ...       ...  ..\n",
       "16  2.370635 -1.490335  16\n",
       "34  2.461166 -0.054265  34\n",
       "85  2.513075 -0.164125  85\n",
       "49  2.626508 -0.649562  49\n",
       "9   3.192554 -0.567513   9\n",
       "\n",
       "[100 rows x 3 columns]"
      ]
     },
     "execution_count": 355,
     "metadata": {},
     "output_type": "execute_result"
    }
   ],
   "source": [
    "df2.sort_values(by = \"y\", ascending = True)"
   ]
  },
  {
   "cell_type": "code",
   "execution_count": 7,
   "id": "13dcfcde-3f94-45a7-a63f-69dabee8d948",
   "metadata": {},
   "outputs": [
    {
     "name": "stdout",
     "output_type": "stream",
     "text": [
      "2\n"
     ]
    }
   ],
   "source": [
    "print(1*1)"
   ]
  },
  {
   "cell_type": "code",
   "execution_count": null,
   "id": "f27108be-4e38-4504-9e54-d024f4b4f869",
   "metadata": {},
   "outputs": [],
   "source": []
  }
 ],
 "metadata": {
  "kernelspec": {
   "display_name": "Python 3 (ipykernel)",
   "language": "python",
   "name": "python3"
  },
  "language_info": {
   "codemirror_mode": {
    "name": "ipython",
    "version": 3
   },
   "file_extension": ".py",
   "mimetype": "text/x-python",
   "name": "python",
   "nbconvert_exporter": "python",
   "pygments_lexer": "ipython3",
   "version": "3.12.3"
  }
 },
 "nbformat": 4,
 "nbformat_minor": 5
}
